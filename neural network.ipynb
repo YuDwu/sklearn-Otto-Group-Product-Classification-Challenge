{
 "cells": [
  {
   "cell_type": "markdown",
   "metadata": {},
   "source": [
    "Kaggle 2015年举办的Otto Group Product Classification Challenge竞赛数据"
   ]
  },
  {
   "cell_type": "markdown",
   "metadata": {},
   "source": [
    "第一名模型\n",
    "https://kaggle2.blob.core.windows.net/forum-message-attachments/79598/2514/FINAL_ARCHITECTURE.pn"
   ]
  },
  {
   "cell_type": "code",
   "execution_count": 1,
   "metadata": {},
   "outputs": [
    {
     "name": "stderr",
     "output_type": "stream",
     "text": [
      "c:\\users\\ydwu\\appdata\\local\\programs\\python\\python35\\lib\\importlib\\_bootstrap.py:222: RuntimeWarning: numpy.dtype size changed, may indicate binary incompatibility. Expected 96, got 88\n",
      "  return f(*args, **kwds)\n"
     ]
    }
   ],
   "source": [
    "#导入模块\n",
    "import numpy as np\n",
    "import pandas as pd\n",
    "import matplotlib.pyplot as plt\n",
    "import seaborn as sns\n",
    "from sklearn.model_selection import GridSearchCV\n",
    "from sklearn.metrics import log_loss\n"
   ]
  },
  {
   "cell_type": "code",
   "execution_count": 2,
   "metadata": {},
   "outputs": [
    {
     "data": {
      "text/html": [
       "<div>\n",
       "<style scoped>\n",
       "    .dataframe tbody tr th:only-of-type {\n",
       "        vertical-align: middle;\n",
       "    }\n",
       "\n",
       "    .dataframe tbody tr th {\n",
       "        vertical-align: top;\n",
       "    }\n",
       "\n",
       "    .dataframe thead th {\n",
       "        text-align: right;\n",
       "    }\n",
       "</style>\n",
       "<table border=\"1\" class=\"dataframe\">\n",
       "  <thead>\n",
       "    <tr style=\"text-align: right;\">\n",
       "      <th></th>\n",
       "      <th>id</th>\n",
       "      <th>feat_1</th>\n",
       "      <th>feat_2</th>\n",
       "      <th>feat_3</th>\n",
       "      <th>feat_4</th>\n",
       "      <th>feat_5</th>\n",
       "      <th>feat_6</th>\n",
       "      <th>feat_7</th>\n",
       "      <th>feat_8</th>\n",
       "      <th>feat_9</th>\n",
       "      <th>...</th>\n",
       "      <th>feat_85</th>\n",
       "      <th>feat_86</th>\n",
       "      <th>feat_87</th>\n",
       "      <th>feat_88</th>\n",
       "      <th>feat_89</th>\n",
       "      <th>feat_90</th>\n",
       "      <th>feat_91</th>\n",
       "      <th>feat_92</th>\n",
       "      <th>feat_93</th>\n",
       "      <th>target</th>\n",
       "    </tr>\n",
       "  </thead>\n",
       "  <tbody>\n",
       "    <tr>\n",
       "      <th>0</th>\n",
       "      <td>1</td>\n",
       "      <td>1</td>\n",
       "      <td>0</td>\n",
       "      <td>0</td>\n",
       "      <td>0</td>\n",
       "      <td>0</td>\n",
       "      <td>0</td>\n",
       "      <td>0</td>\n",
       "      <td>0</td>\n",
       "      <td>0</td>\n",
       "      <td>...</td>\n",
       "      <td>1</td>\n",
       "      <td>0</td>\n",
       "      <td>0</td>\n",
       "      <td>0</td>\n",
       "      <td>0</td>\n",
       "      <td>0</td>\n",
       "      <td>0</td>\n",
       "      <td>0</td>\n",
       "      <td>0</td>\n",
       "      <td>Class_1</td>\n",
       "    </tr>\n",
       "    <tr>\n",
       "      <th>1</th>\n",
       "      <td>2</td>\n",
       "      <td>0</td>\n",
       "      <td>0</td>\n",
       "      <td>0</td>\n",
       "      <td>0</td>\n",
       "      <td>0</td>\n",
       "      <td>0</td>\n",
       "      <td>0</td>\n",
       "      <td>1</td>\n",
       "      <td>0</td>\n",
       "      <td>...</td>\n",
       "      <td>0</td>\n",
       "      <td>0</td>\n",
       "      <td>0</td>\n",
       "      <td>0</td>\n",
       "      <td>0</td>\n",
       "      <td>0</td>\n",
       "      <td>0</td>\n",
       "      <td>0</td>\n",
       "      <td>0</td>\n",
       "      <td>Class_1</td>\n",
       "    </tr>\n",
       "    <tr>\n",
       "      <th>2</th>\n",
       "      <td>3</td>\n",
       "      <td>0</td>\n",
       "      <td>0</td>\n",
       "      <td>0</td>\n",
       "      <td>0</td>\n",
       "      <td>0</td>\n",
       "      <td>0</td>\n",
       "      <td>0</td>\n",
       "      <td>1</td>\n",
       "      <td>0</td>\n",
       "      <td>...</td>\n",
       "      <td>0</td>\n",
       "      <td>0</td>\n",
       "      <td>0</td>\n",
       "      <td>0</td>\n",
       "      <td>0</td>\n",
       "      <td>0</td>\n",
       "      <td>0</td>\n",
       "      <td>0</td>\n",
       "      <td>0</td>\n",
       "      <td>Class_1</td>\n",
       "    </tr>\n",
       "    <tr>\n",
       "      <th>3</th>\n",
       "      <td>4</td>\n",
       "      <td>1</td>\n",
       "      <td>0</td>\n",
       "      <td>0</td>\n",
       "      <td>1</td>\n",
       "      <td>6</td>\n",
       "      <td>1</td>\n",
       "      <td>5</td>\n",
       "      <td>0</td>\n",
       "      <td>0</td>\n",
       "      <td>...</td>\n",
       "      <td>0</td>\n",
       "      <td>1</td>\n",
       "      <td>2</td>\n",
       "      <td>0</td>\n",
       "      <td>0</td>\n",
       "      <td>0</td>\n",
       "      <td>0</td>\n",
       "      <td>0</td>\n",
       "      <td>0</td>\n",
       "      <td>Class_1</td>\n",
       "    </tr>\n",
       "    <tr>\n",
       "      <th>4</th>\n",
       "      <td>5</td>\n",
       "      <td>0</td>\n",
       "      <td>0</td>\n",
       "      <td>0</td>\n",
       "      <td>0</td>\n",
       "      <td>0</td>\n",
       "      <td>0</td>\n",
       "      <td>0</td>\n",
       "      <td>0</td>\n",
       "      <td>0</td>\n",
       "      <td>...</td>\n",
       "      <td>1</td>\n",
       "      <td>0</td>\n",
       "      <td>0</td>\n",
       "      <td>0</td>\n",
       "      <td>0</td>\n",
       "      <td>1</td>\n",
       "      <td>0</td>\n",
       "      <td>0</td>\n",
       "      <td>0</td>\n",
       "      <td>Class_1</td>\n",
       "    </tr>\n",
       "  </tbody>\n",
       "</table>\n",
       "<p>5 rows × 95 columns</p>\n",
       "</div>"
      ],
      "text/plain": [
       "   id  feat_1  feat_2  feat_3  feat_4  feat_5  feat_6  feat_7  feat_8  feat_9  \\\n",
       "0   1       1       0       0       0       0       0       0       0       0   \n",
       "1   2       0       0       0       0       0       0       0       1       0   \n",
       "2   3       0       0       0       0       0       0       0       1       0   \n",
       "3   4       1       0       0       1       6       1       5       0       0   \n",
       "4   5       0       0       0       0       0       0       0       0       0   \n",
       "\n",
       "    ...     feat_85  feat_86  feat_87  feat_88  feat_89  feat_90  feat_91  \\\n",
       "0   ...           1        0        0        0        0        0        0   \n",
       "1   ...           0        0        0        0        0        0        0   \n",
       "2   ...           0        0        0        0        0        0        0   \n",
       "3   ...           0        1        2        0        0        0        0   \n",
       "4   ...           1        0        0        0        0        1        0   \n",
       "\n",
       "   feat_92  feat_93   target  \n",
       "0        0        0  Class_1  \n",
       "1        0        0  Class_1  \n",
       "2        0        0  Class_1  \n",
       "3        0        0  Class_1  \n",
       "4        0        0  Class_1  \n",
       "\n",
       "[5 rows x 95 columns]"
      ]
     },
     "execution_count": 2,
     "metadata": {},
     "output_type": "execute_result"
    }
   ],
   "source": [
    "#读取数据\n",
    "data=pd.read_csv('./data/Otto_train.csv')\n",
    "data.head()"
   ]
  },
  {
   "cell_type": "code",
   "execution_count": 3,
   "metadata": {},
   "outputs": [
    {
     "data": {
      "text/plain": [
       "<matplotlib.axes._subplots.AxesSubplot at 0x12d3ed6e860>"
      ]
     },
     "execution_count": 3,
     "metadata": {},
     "output_type": "execute_result"
    },
    {
     "data": {
      "image/png": "[encoded data removed]",
      "text/plain": [
       "<matplotlib.figure.Figure at 0x12d3ecdb940>"
      ]
     },
     "metadata": {},
     "output_type": "display_data"
    }
   ],
   "source": [
    "sns.countplot(data.target)"
   ]
  },
  {
   "cell_type": "code",
   "execution_count": 4,
   "metadata": {},
   "outputs": [
    {
     "name": "stdout",
     "output_type": "stream",
     "text": [
      "<class 'pandas.core.frame.DataFrame'>\n",
      "RangeIndex: 61878 entries, 0 to 61877\n",
      "Data columns (total 95 columns):\n",
      "id         61878 non-null int64\n",
      "feat_1     61878 non-null int64\n",
      "feat_2     61878 non-null int64\n",
      "feat_3     61878 non-null int64\n",
      "feat_4     61878 non-null int64\n",
      "feat_5     61878 non-null int64\n",
      "feat_6     61878 non-null int64\n",
      "feat_7     61878 non-null int64\n",
      "feat_8     61878 non-null int64\n",
      "feat_9     61878 non-null int64\n",
      "feat_10    61878 non-null int64\n",
      "feat_11    61878 non-null int64\n",
      "feat_12    61878 non-null int64\n",
      "feat_13    61878 non-null int64\n",
      "feat_14    61878 non-null int64\n",
      "feat_15    61878 non-null int64\n",
      "feat_16    61878 non-null int64\n",
      "feat_17    61878 non-null int64\n",
      "feat_18    61878 non-null int64\n",
      "feat_19    61878 non-null int64\n",
      "feat_20    61878 non-null int64\n",
      "feat_21    61878 non-null int64\n",
      "feat_22    61878 non-null int64\n",
      "feat_23    61878 non-null int64\n",
      "feat_24    61878 non-null int64\n",
      "feat_25    61878 non-null int64\n",
      "feat_26    61878 non-null int64\n",
      "feat_27    61878 non-null int64\n",
      "feat_28    61878 non-null int64\n",
      "feat_29    61878 non-null int64\n",
      "feat_30    61878 non-null int64\n",
      "feat_31    61878 non-null int64\n",
      "feat_32    61878 non-null int64\n",
      "feat_33    61878 non-null int64\n",
      "feat_34    61878 non-null int64\n",
      "feat_35    61878 non-null int64\n",
      "feat_36    61878 non-null int64\n",
      "feat_37    61878 non-null int64\n",
      "feat_38    61878 non-null int64\n",
      "feat_39    61878 non-null int64\n",
      "feat_40    61878 non-null int64\n",
      "feat_41    61878 non-null int64\n",
      "feat_42    61878 non-null int64\n",
      "feat_43    61878 non-null int64\n",
      "feat_44    61878 non-null int64\n",
      "feat_45    61878 non-null int64\n",
      "feat_46    61878 non-null int64\n",
      "feat_47    61878 non-null int64\n",
      "feat_48    61878 non-null int64\n",
      "feat_49    61878 non-null int64\n",
      "feat_50    61878 non-null int64\n",
      "feat_51    61878 non-null int64\n",
      "feat_52    61878 non-null int64\n",
      "feat_53    61878 non-null int64\n",
      "feat_54    61878 non-null int64\n",
      "feat_55    61878 non-null int64\n",
      "feat_56    61878 non-null int64\n",
      "feat_57    61878 non-null int64\n",
      "feat_58    61878 non-null int64\n",
      "feat_59    61878 non-null int64\n",
      "feat_60    61878 non-null int64\n",
      "feat_61    61878 non-null int64\n",
      "feat_62    61878 non-null int64\n",
      "feat_63    61878 non-null int64\n",
      "feat_64    61878 non-null int64\n",
      "feat_65    61878 non-null int64\n",
      "feat_66    61878 non-null int64\n",
      "feat_67    61878 non-null int64\n",
      "feat_68    61878 non-null int64\n",
      "feat_69    61878 non-null int64\n",
      "feat_70    61878 non-null int64\n",
      "feat_71    61878 non-null int64\n",
      "feat_72    61878 non-null int64\n",
      "feat_73    61878 non-null int64\n",
      "feat_74    61878 non-null int64\n",
      "feat_75    61878 non-null int64\n",
      "feat_76    61878 non-null int64\n",
      "feat_77    61878 non-null int64\n",
      "feat_78    61878 non-null int64\n",
      "feat_79    61878 non-null int64\n",
      "feat_80    61878 non-null int64\n",
      "feat_81    61878 non-null int64\n",
      "feat_82    61878 non-null int64\n",
      "feat_83    61878 non-null int64\n",
      "feat_84    61878 non-null int64\n",
      "feat_85    61878 non-null int64\n",
      "feat_86    61878 non-null int64\n",
      "feat_87    61878 non-null int64\n",
      "feat_88    61878 non-null int64\n",
      "feat_89    61878 non-null int64\n",
      "feat_90    61878 non-null int64\n",
      "feat_91    61878 non-null int64\n",
      "feat_92    61878 non-null int64\n",
      "feat_93    61878 non-null int64\n",
      "target     61878 non-null object\n",
      "dtypes: int64(94), object(1)\n",
      "memory usage: 44.8+ MB\n"
     ]
    }
   ],
   "source": [
    "data.info()"
   ]
  },
  {
   "cell_type": "code",
   "execution_count": 5,
   "metadata": {},
   "outputs": [
    {
     "data": {
      "text/html": [
       "<div>\n",
       "<style scoped>\n",
       "    .dataframe tbody tr th:only-of-type {\n",
       "        vertical-align: middle;\n",
       "    }\n",
       "\n",
       "    .dataframe tbody tr th {\n",
       "        vertical-align: top;\n",
       "    }\n",
       "\n",
       "    .dataframe thead th {\n",
       "        text-align: right;\n",
       "    }\n",
       "</style>\n",
       "<table border=\"1\" class=\"dataframe\">\n",
       "  <thead>\n",
       "    <tr style=\"text-align: right;\">\n",
       "      <th></th>\n",
       "      <th>id</th>\n",
       "      <th>feat_1</th>\n",
       "      <th>feat_2</th>\n",
       "      <th>feat_3</th>\n",
       "      <th>feat_4</th>\n",
       "      <th>feat_5</th>\n",
       "      <th>feat_6</th>\n",
       "      <th>feat_7</th>\n",
       "      <th>feat_8</th>\n",
       "      <th>feat_9</th>\n",
       "      <th>...</th>\n",
       "      <th>feat_84</th>\n",
       "      <th>feat_85</th>\n",
       "      <th>feat_86</th>\n",
       "      <th>feat_87</th>\n",
       "      <th>feat_88</th>\n",
       "      <th>feat_89</th>\n",
       "      <th>feat_90</th>\n",
       "      <th>feat_91</th>\n",
       "      <th>feat_92</th>\n",
       "      <th>feat_93</th>\n",
       "    </tr>\n",
       "  </thead>\n",
       "  <tbody>\n",
       "    <tr>\n",
       "      <th>count</th>\n",
       "      <td>61878.000000</td>\n",
       "      <td>61878.00000</td>\n",
       "      <td>61878.000000</td>\n",
       "      <td>61878.000000</td>\n",
       "      <td>61878.000000</td>\n",
       "      <td>61878.000000</td>\n",
       "      <td>61878.000000</td>\n",
       "      <td>61878.000000</td>\n",
       "      <td>61878.000000</td>\n",
       "      <td>61878.000000</td>\n",
       "      <td>...</td>\n",
       "      <td>61878.000000</td>\n",
       "      <td>61878.000000</td>\n",
       "      <td>61878.000000</td>\n",
       "      <td>61878.000000</td>\n",
       "      <td>61878.000000</td>\n",
       "      <td>61878.000000</td>\n",
       "      <td>61878.000000</td>\n",
       "      <td>61878.000000</td>\n",
       "      <td>61878.000000</td>\n",
       "      <td>61878.000000</td>\n",
       "    </tr>\n",
       "    <tr>\n",
       "      <th>mean</th>\n",
       "      <td>30939.500000</td>\n",
       "      <td>0.38668</td>\n",
       "      <td>0.263066</td>\n",
       "      <td>0.901467</td>\n",
       "      <td>0.779081</td>\n",
       "      <td>0.071043</td>\n",
       "      <td>0.025696</td>\n",
       "      <td>0.193704</td>\n",
       "      <td>0.662433</td>\n",
       "      <td>1.011296</td>\n",
       "      <td>...</td>\n",
       "      <td>0.070752</td>\n",
       "      <td>0.532306</td>\n",
       "      <td>1.128576</td>\n",
       "      <td>0.393549</td>\n",
       "      <td>0.874915</td>\n",
       "      <td>0.457772</td>\n",
       "      <td>0.812421</td>\n",
       "      <td>0.264941</td>\n",
       "      <td>0.380119</td>\n",
       "      <td>0.126135</td>\n",
       "    </tr>\n",
       "    <tr>\n",
       "      <th>std</th>\n",
       "      <td>17862.784315</td>\n",
       "      <td>1.52533</td>\n",
       "      <td>1.252073</td>\n",
       "      <td>2.934818</td>\n",
       "      <td>2.788005</td>\n",
       "      <td>0.438902</td>\n",
       "      <td>0.215333</td>\n",
       "      <td>1.030102</td>\n",
       "      <td>2.255770</td>\n",
       "      <td>3.474822</td>\n",
       "      <td>...</td>\n",
       "      <td>1.151460</td>\n",
       "      <td>1.900438</td>\n",
       "      <td>2.681554</td>\n",
       "      <td>1.575455</td>\n",
       "      <td>2.115466</td>\n",
       "      <td>1.527385</td>\n",
       "      <td>4.597804</td>\n",
       "      <td>2.045646</td>\n",
       "      <td>0.982385</td>\n",
       "      <td>1.201720</td>\n",
       "    </tr>\n",
       "    <tr>\n",
       "      <th>min</th>\n",
       "      <td>1.000000</td>\n",
       "      <td>0.00000</td>\n",
       "      <td>0.000000</td>\n",
       "      <td>0.000000</td>\n",
       "      <td>0.000000</td>\n",
       "      <td>0.000000</td>\n",
       "      <td>0.000000</td>\n",
       "      <td>0.000000</td>\n",
       "      <td>0.000000</td>\n",
       "      <td>0.000000</td>\n",
       "      <td>...</td>\n",
       "      <td>0.000000</td>\n",
       "      <td>0.000000</td>\n",
       "      <td>0.000000</td>\n",
       "      <td>0.000000</td>\n",
       "      <td>0.000000</td>\n",
       "      <td>0.000000</td>\n",
       "      <td>0.000000</td>\n",
       "      <td>0.000000</td>\n",
       "      <td>0.000000</td>\n",
       "      <td>0.000000</td>\n",
       "    </tr>\n",
       "    <tr>\n",
       "      <th>25%</th>\n",
       "      <td>15470.250000</td>\n",
       "      <td>0.00000</td>\n",
       "      <td>0.000000</td>\n",
       "      <td>0.000000</td>\n",
       "      <td>0.000000</td>\n",
       "      <td>0.000000</td>\n",
       "      <td>0.000000</td>\n",
       "      <td>0.000000</td>\n",
       "      <td>0.000000</td>\n",
       "      <td>0.000000</td>\n",
       "      <td>...</td>\n",
       "      <td>0.000000</td>\n",
       "      <td>0.000000</td>\n",
       "      <td>0.000000</td>\n",
       "      <td>0.000000</td>\n",
       "      <td>0.000000</td>\n",
       "      <td>0.000000</td>\n",
       "      <td>0.000000</td>\n",
       "      <td>0.000000</td>\n",
       "      <td>0.000000</td>\n",
       "      <td>0.000000</td>\n",
       "    </tr>\n",
       "    <tr>\n",
       "      <th>50%</th>\n",
       "      <td>30939.500000</td>\n",
       "      <td>0.00000</td>\n",
       "      <td>0.000000</td>\n",
       "      <td>0.000000</td>\n",
       "      <td>0.000000</td>\n",
       "      <td>0.000000</td>\n",
       "      <td>0.000000</td>\n",
       "      <td>0.000000</td>\n",
       "      <td>0.000000</td>\n",
       "      <td>0.000000</td>\n",
       "      <td>...</td>\n",
       "      <td>0.000000</td>\n",
       "      <td>0.000000</td>\n",
       "      <td>0.000000</td>\n",
       "      <td>0.000000</td>\n",
       "      <td>0.000000</td>\n",
       "      <td>0.000000</td>\n",
       "      <td>0.000000</td>\n",
       "      <td>0.000000</td>\n",
       "      <td>0.000000</td>\n",
       "      <td>0.000000</td>\n",
       "    </tr>\n",
       "    <tr>\n",
       "      <th>75%</th>\n",
       "      <td>46408.750000</td>\n",
       "      <td>0.00000</td>\n",
       "      <td>0.000000</td>\n",
       "      <td>0.000000</td>\n",
       "      <td>0.000000</td>\n",
       "      <td>0.000000</td>\n",
       "      <td>0.000000</td>\n",
       "      <td>0.000000</td>\n",
       "      <td>1.000000</td>\n",
       "      <td>0.000000</td>\n",
       "      <td>...</td>\n",
       "      <td>0.000000</td>\n",
       "      <td>0.000000</td>\n",
       "      <td>1.000000</td>\n",
       "      <td>0.000000</td>\n",
       "      <td>1.000000</td>\n",
       "      <td>0.000000</td>\n",
       "      <td>0.000000</td>\n",
       "      <td>0.000000</td>\n",
       "      <td>0.000000</td>\n",
       "      <td>0.000000</td>\n",
       "    </tr>\n",
       "    <tr>\n",
       "      <th>max</th>\n",
       "      <td>61878.000000</td>\n",
       "      <td>61.00000</td>\n",
       "      <td>51.000000</td>\n",
       "      <td>64.000000</td>\n",
       "      <td>70.000000</td>\n",
       "      <td>19.000000</td>\n",
       "      <td>10.000000</td>\n",
       "      <td>38.000000</td>\n",
       "      <td>76.000000</td>\n",
       "      <td>43.000000</td>\n",
       "      <td>...</td>\n",
       "      <td>76.000000</td>\n",
       "      <td>55.000000</td>\n",
       "      <td>65.000000</td>\n",
       "      <td>67.000000</td>\n",
       "      <td>30.000000</td>\n",
       "      <td>61.000000</td>\n",
       "      <td>130.000000</td>\n",
       "      <td>52.000000</td>\n",
       "      <td>19.000000</td>\n",
       "      <td>87.000000</td>\n",
       "    </tr>\n",
       "  </tbody>\n",
       "</table>\n",
       "<p>8 rows × 94 columns</p>\n",
       "</div>"
      ],
      "text/plain": [
       "                 id       feat_1        feat_2        feat_3        feat_4  \\\n",
       "count  61878.000000  61878.00000  61878.000000  61878.000000  61878.000000   \n",
       "mean   30939.500000      0.38668      0.263066      0.901467      0.779081   \n",
       "std    17862.784315      1.52533      1.252073      2.934818      2.788005   \n",
       "min        1.000000      0.00000      0.000000      0.000000      0.000000   \n",
       "25%    15470.250000      0.00000      0.000000      0.000000      0.000000   \n",
       "50%    30939.500000      0.00000      0.000000      0.000000      0.000000   \n",
       "75%    46408.750000      0.00000      0.000000      0.000000      0.000000   \n",
       "max    61878.000000     61.00000     51.000000     64.000000     70.000000   \n",
       "\n",
       "             feat_5        feat_6        feat_7        feat_8        feat_9  \\\n",
       "count  61878.000000  61878.000000  61878.000000  61878.000000  61878.000000   \n",
       "mean       0.071043      0.025696      0.193704      0.662433      1.011296   \n",
       "std        0.438902      0.215333      1.030102      2.255770      3.474822   \n",
       "min        0.000000      0.000000      0.000000      0.000000      0.000000   \n",
       "25%        0.000000      0.000000      0.000000      0.000000      0.000000   \n",
       "50%        0.000000      0.000000      0.000000      0.000000      0.000000   \n",
       "75%        0.000000      0.000000      0.000000      1.000000      0.000000   \n",
       "max       19.000000     10.000000     38.000000     76.000000     43.000000   \n",
       "\n",
       "           ...            feat_84       feat_85       feat_86       feat_87  \\\n",
       "count      ...       61878.000000  61878.000000  61878.000000  61878.000000   \n",
       "mean       ...           0.070752      0.532306      1.128576      0.393549   \n",
       "std        ...           1.151460      1.900438      2.681554      1.575455   \n",
       "min        ...           0.000000      0.000000      0.000000      0.000000   \n",
       "25%        ...           0.000000      0.000000      0.000000      0.000000   \n",
       "50%        ...           0.000000      0.000000      0.000000      0.000000   \n",
       "75%        ...           0.000000      0.000000      1.000000      0.000000   \n",
       "max        ...          76.000000     55.000000     65.000000     67.000000   \n",
       "\n",
       "            feat_88       feat_89       feat_90       feat_91       feat_92  \\\n",
       "count  61878.000000  61878.000000  61878.000000  61878.000000  61878.000000   \n",
       "mean       0.874915      0.457772      0.812421      0.264941      0.380119   \n",
       "std        2.115466      1.527385      4.597804      2.045646      0.982385   \n",
       "min        0.000000      0.000000      0.000000      0.000000      0.000000   \n",
       "25%        0.000000      0.000000      0.000000      0.000000      0.000000   \n",
       "50%        0.000000      0.000000      0.000000      0.000000      0.000000   \n",
       "75%        1.000000      0.000000      0.000000      0.000000      0.000000   \n",
       "max       30.000000     61.000000    130.000000     52.000000     19.000000   \n",
       "\n",
       "            feat_93  \n",
       "count  61878.000000  \n",
       "mean       0.126135  \n",
       "std        1.201720  \n",
       "min        0.000000  \n",
       "25%        0.000000  \n",
       "50%        0.000000  \n",
       "75%        0.000000  \n",
       "max       87.000000  \n",
       "\n",
       "[8 rows x 94 columns]"
      ]
     },
     "execution_count": 5,
     "metadata": {},
     "output_type": "execute_result"
    }
   ],
   "source": [
    "data.describe()"
   ]
  },
  {
   "cell_type": "code",
   "execution_count": 6,
   "metadata": {},
   "outputs": [
    {
     "data": {
      "text/plain": [
       "id         0\n",
       "feat_1     0\n",
       "feat_2     0\n",
       "feat_3     0\n",
       "feat_4     0\n",
       "feat_5     0\n",
       "feat_6     0\n",
       "feat_7     0\n",
       "feat_8     0\n",
       "feat_9     0\n",
       "feat_10    0\n",
       "feat_11    0\n",
       "feat_12    0\n",
       "feat_13    0\n",
       "feat_14    0\n",
       "feat_15    0\n",
       "feat_16    0\n",
       "feat_17    0\n",
       "feat_18    0\n",
       "feat_19    0\n",
       "feat_20    0\n",
       "feat_21    0\n",
       "feat_22    0\n",
       "feat_23    0\n",
       "feat_24    0\n",
       "feat_25    0\n",
       "feat_26    0\n",
       "feat_27    0\n",
       "feat_28    0\n",
       "feat_29    0\n",
       "          ..\n",
       "feat_65    0\n",
       "feat_66    0\n",
       "feat_67    0\n",
       "feat_68    0\n",
       "feat_69    0\n",
       "feat_70    0\n",
       "feat_71    0\n",
       "feat_72    0\n",
       "feat_73    0\n",
       "feat_74    0\n",
       "feat_75    0\n",
       "feat_76    0\n",
       "feat_77    0\n",
       "feat_78    0\n",
       "feat_79    0\n",
       "feat_80    0\n",
       "feat_81    0\n",
       "feat_82    0\n",
       "feat_83    0\n",
       "feat_84    0\n",
       "feat_85    0\n",
       "feat_86    0\n",
       "feat_87    0\n",
       "feat_88    0\n",
       "feat_89    0\n",
       "feat_90    0\n",
       "feat_91    0\n",
       "feat_92    0\n",
       "feat_93    0\n",
       "target     0\n",
       "Length: 95, dtype: int64"
      ]
     },
     "execution_count": 6,
     "metadata": {},
     "output_type": "execute_result"
    }
   ],
   "source": [
    "data.isnull().sum()"
   ]
  },
  {
   "cell_type": "code",
   "execution_count": 7,
   "metadata": {},
   "outputs": [
    {
     "data": {
      "text/plain": [
       "<matplotlib.axes._subplots.AxesSubplot at 0x12d410b84e0>"
      ]
     },
     "execution_count": 7,
     "metadata": {},
     "output_type": "execute_result"
    },
    {
     "data": {
      "image/png": "[encoded data removed]",
      "text/plain": [
       "<matplotlib.figure.Figure at 0x12d4109e4e0>"
      ]
     },
     "metadata": {},
     "output_type": "display_data"
    }
   ],
   "source": [
    "data_corr=data.corr().abs()\n",
    "sns.heatmap(data_corr)"
   ]
  },
  {
   "cell_type": "code",
   "execution_count": 3,
   "metadata": {},
   "outputs": [
    {
     "name": "stdout",
     "output_type": "stream",
     "text": [
      "[[ 1  0  0 ...  0  0  0]\n",
      " [ 0  0  0 ...  0  0  0]\n",
      " [ 0  0  0 ...  0  0  0]\n",
      " ...\n",
      " [ 0  0  0 ...  0  0  0]\n",
      " [ 1  0  0 ...  3 10  0]\n",
      " [ 0  0  0 ...  0  2  0]]\n"
     ]
    },
    {
     "data": {
      "text/plain": [
       "(61878, 93)"
      ]
     },
     "execution_count": 3,
     "metadata": {},
     "output_type": "execute_result"
    }
   ],
   "source": [
    "#特征编码\n",
    "Y_data=data['target']\n",
    "Y_data=Y_data.map(lambda s:s[6:])\n",
    "Y_data=Y_data.map(lambda s:int(s)-1)\n",
    "X_data=data.drop(['id','target'],axis=1)\n",
    "X_data=np.array(X_data)\n",
    "print(X_data)\n",
    "X_data.shape"
   ]
  },
  {
   "cell_type": "code",
   "execution_count": 4,
   "metadata": {},
   "outputs": [
    {
     "name": "stderr",
     "output_type": "stream",
     "text": [
      "c:\\users\\ydwu\\appdata\\local\\programs\\python\\python35\\lib\\site-packages\\sklearn\\utils\\validation.py:475: DataConversionWarning: Data with input dtype int64 was converted to float64 by StandardScaler.\n",
      "  warnings.warn(msg, DataConversionWarning)\n"
     ]
    }
   ],
   "source": [
    "from sklearn.preprocessing import StandardScaler\n",
    "ss=StandardScaler()\n",
    "X_data=ss.fit_transform(X_data)\n",
    "# from sklearn.model_selection import train_test_split\n",
    "# X_train,X_test,Y_train,Y_test=train_test_split(X_data,Y_data,test_size=0.2)\n",
    "# X_train.shape"
   ]
  },
  {
   "cell_type": "code",
   "execution_count": 10,
   "metadata": {},
   "outputs": [
    {
     "name": "stderr",
     "output_type": "stream",
     "text": [
      "c:\\users\\ydwu\\appdata\\local\\programs\\python\\python35\\lib\\site-packages\\sklearn\\cross_validation.py:41: DeprecationWarning: This module was deprecated in version 0.18 in favor of the model_selection module into which all the refactored classes and functions are moved. Also note that the interface of the new CV iterators are different from that of this module. This module will be removed in 0.20.\n",
      "  \"This module will be removed in 0.20.\", DeprecationWarning)\n"
     ]
    },
    {
     "name": "stdout",
     "output_type": "stream",
     "text": [
      "logloss each step [0.67686698 0.68182095 0.6683812  0.66628679 0.6743945 ]\n"
     ]
    }
   ],
   "source": [
    "from sklearn.linear_model import LogisticRegression\n",
    "lr=LogisticRegression()\n",
    "from sklearn.cross_validation import cross_val_score\n",
    "loss=cross_val_score(lr,X_data,Y_data,cv=5,scoring='neg_log_loss')\n",
    "print('logloss each step',-loss)\n"
   ]
  },
  {
   "cell_type": "code",
   "execution_count": 13,
   "metadata": {},
   "outputs": [
    {
     "data": {
      "text/plain": [
       "GridSearchCV(cv=5, error_score='raise',\n",
       "       estimator=LogisticRegression(C=1.0, class_weight=None, dual=False, fit_intercept=True,\n",
       "          intercept_scaling=1, max_iter=100, multi_class='ovr', n_jobs=1,\n",
       "          penalty='l2', random_state=None, solver='liblinear', tol=0.0001,\n",
       "          verbose=0, warm_start=False),\n",
       "       fit_params=None, iid=True, n_jobs=1,\n",
       "       param_grid={'C': [0.001, 0.01, 0.1, 1, 10, 100], 'penalty': ['l1', 'l2']},\n",
       "       pre_dispatch='2*n_jobs', refit=True, return_train_score='warn',\n",
       "       scoring='neg_log_loss', verbose=0)"
      ]
     },
     "execution_count": 13,
     "metadata": {},
     "output_type": "execute_result"
    }
   ],
   "source": [
    "penaltys=['l1','l2']\n",
    "Cs=[0.001,0.01,0.1,1,10,100]\n",
    "params=dict(penalty=penaltys,C=Cs)\n",
    "grid=GridSearchCV(lr,params,cv=5,scoring='neg_log_loss')\n",
    "grid.fit(X_data,Y_data)\n"
   ]
  },
  {
   "cell_type": "code",
   "execution_count": 14,
   "metadata": {},
   "outputs": [
    {
     "name": "stderr",
     "output_type": "stream",
     "text": [
      "c:\\users\\ydwu\\appdata\\local\\programs\\python\\python35\\lib\\site-packages\\sklearn\\utils\\deprecation.py:122: FutureWarning: You are accessing a training score ('mean_train_score'), which will not be available by default any more in 0.21. If you need training scores, please set return_train_score=True\n",
      "  warnings.warn(*warn_args, **warn_kwargs)\n",
      "c:\\users\\ydwu\\appdata\\local\\programs\\python\\python35\\lib\\site-packages\\sklearn\\utils\\deprecation.py:122: FutureWarning: You are accessing a training score ('split0_train_score'), which will not be available by default any more in 0.21. If you need training scores, please set return_train_score=True\n",
      "  warnings.warn(*warn_args, **warn_kwargs)\n",
      "c:\\users\\ydwu\\appdata\\local\\programs\\python\\python35\\lib\\site-packages\\sklearn\\utils\\deprecation.py:122: FutureWarning: You are accessing a training score ('split1_train_score'), which will not be available by default any more in 0.21. If you need training scores, please set return_train_score=True\n",
      "  warnings.warn(*warn_args, **warn_kwargs)\n",
      "c:\\users\\ydwu\\appdata\\local\\programs\\python\\python35\\lib\\site-packages\\sklearn\\utils\\deprecation.py:122: FutureWarning: You are accessing a training score ('split2_train_score'), which will not be available by default any more in 0.21. If you need training scores, please set return_train_score=True\n",
      "  warnings.warn(*warn_args, **warn_kwargs)\n",
      "c:\\users\\ydwu\\appdata\\local\\programs\\python\\python35\\lib\\site-packages\\sklearn\\utils\\deprecation.py:122: FutureWarning: You are accessing a training score ('split3_train_score'), which will not be available by default any more in 0.21. If you need training scores, please set return_train_score=True\n",
      "  warnings.warn(*warn_args, **warn_kwargs)\n",
      "c:\\users\\ydwu\\appdata\\local\\programs\\python\\python35\\lib\\site-packages\\sklearn\\utils\\deprecation.py:122: FutureWarning: You are accessing a training score ('split4_train_score'), which will not be available by default any more in 0.21. If you need training scores, please set return_train_score=True\n",
      "  warnings.warn(*warn_args, **warn_kwargs)\n",
      "c:\\users\\ydwu\\appdata\\local\\programs\\python\\python35\\lib\\site-packages\\sklearn\\utils\\deprecation.py:122: FutureWarning: You are accessing a training score ('std_train_score'), which will not be available by default any more in 0.21. If you need training scores, please set return_train_score=True\n",
      "  warnings.warn(*warn_args, **warn_kwargs)\n"
     ]
    },
    {
     "data": {
      "text/plain": [
       "{'mean_fit_time': array([ 2.21396823,  6.53783545,  6.1129724 , 11.46167407, 16.78643198,\n",
       "        18.94330754, 29.77844162, 23.98602953, 38.08830881, 26.68648028,\n",
       "        39.51177726, 27.31872978]),\n",
       " 'mean_score_time': array([0.01301036, 0.01418905, 0.0153841 , 0.01530461, 0.01498151,\n",
       "        0.01497512, 0.01250134, 0.00625482, 0.01250653, 0.0093821 ,\n",
       "        0.01563663, 0.01563268]),\n",
       " 'mean_test_score': array([-1.17705975, -1.02651724, -0.77504533, -0.76020957, -0.68195   ,\n",
       "        -0.68690563, -0.6723824 , -0.67355026, -0.67188458, -0.67184408,\n",
       "        -0.67190294, -0.67183336]),\n",
       " 'mean_train_score': array([-1.17597536, -1.02389825, -0.7709263 , -0.75433198, -0.67254718,\n",
       "        -0.67728089, -0.66043173, -0.66191649, -0.65923009, -0.65940431,\n",
       "        -0.65912957, -0.65909371]),\n",
       " 'param_C': masked_array(data=[0.001, 0.001, 0.01, 0.01, 0.1, 0.1, 1, 1, 10, 10, 100,\n",
       "                    100],\n",
       "              mask=[False, False, False, False, False, False, False, False,\n",
       "                    False, False, False, False],\n",
       "        fill_value='?',\n",
       "             dtype=object),\n",
       " 'param_penalty': masked_array(data=['l1', 'l2', 'l1', 'l2', 'l1', 'l2', 'l1', 'l2', 'l1',\n",
       "                    'l2', 'l1', 'l2'],\n",
       "              mask=[False, False, False, False, False, False, False, False,\n",
       "                    False, False, False, False],\n",
       "        fill_value='?',\n",
       "             dtype=object),\n",
       " 'params': [{'C': 0.001, 'penalty': 'l1'},\n",
       "  {'C': 0.001, 'penalty': 'l2'},\n",
       "  {'C': 0.01, 'penalty': 'l1'},\n",
       "  {'C': 0.01, 'penalty': 'l2'},\n",
       "  {'C': 0.1, 'penalty': 'l1'},\n",
       "  {'C': 0.1, 'penalty': 'l2'},\n",
       "  {'C': 1, 'penalty': 'l1'},\n",
       "  {'C': 1, 'penalty': 'l2'},\n",
       "  {'C': 10, 'penalty': 'l1'},\n",
       "  {'C': 10, 'penalty': 'l2'},\n",
       "  {'C': 100, 'penalty': 'l1'},\n",
       "  {'C': 100, 'penalty': 'l2'}],\n",
       " 'rank_test_score': array([12, 11, 10,  9,  7,  8,  5,  6,  3,  2,  4,  1]),\n",
       " 'split0_test_score': array([-1.18017187, -1.02714364, -0.77838043, -0.76291001, -0.6850024 ,\n",
       "        -0.69036096, -0.67590536, -0.67686698, -0.67556115, -0.67545175,\n",
       "        -0.67555569, -0.67548764]),\n",
       " 'split0_train_score': array([-1.17530956, -1.02375019, -0.77030512, -0.75376261, -0.67178733,\n",
       "        -0.67655337, -0.65973385, -0.6611928 , -0.65854824, -0.65871693,\n",
       "        -0.65844902, -0.65841157]),\n",
       " 'split1_test_score': array([-1.18110447, -1.03204185, -0.78307749, -0.76713379, -0.6895291 ,\n",
       "        -0.69433059, -0.68055083, -0.68182095, -0.68034489, -0.68026893,\n",
       "        -0.68042723, -0.68035077]),\n",
       " 'split1_train_score': array([-1.17336357, -1.02168815, -0.76812495, -0.7515705 , -0.6695662 ,\n",
       "        -0.6743171 , -0.65734721, -0.65879171, -0.65613424, -0.65629466,\n",
       "        -0.65602731, -0.65599087]),\n",
       " 'split2_test_score': array([-1.17464327, -1.02087093, -0.76888649, -0.75377286, -0.67630713,\n",
       "        -0.68101927, -0.66728822, -0.6683812 , -0.66687257, -0.66685675,\n",
       "        -0.66685427, -0.66680743]),\n",
       " 'split2_train_score': array([-1.17708922, -1.02534114, -0.77254632, -0.75591744, -0.67374403,\n",
       "        -0.67855131, -0.66150567, -0.66304635, -0.66029636, -0.6604797 ,\n",
       "        -0.66020239, -0.66016503]),\n",
       " 'split3_test_score': array([-1.17394118, -1.02329239, -0.76920372, -0.75495946, -0.67556738,\n",
       "        -0.68072183, -0.66529369, -0.66628679, -0.66462575, -0.66442326,\n",
       "        -0.66472201, -0.66459421]),\n",
       " 'split3_train_score': array([-1.17745259, -1.02519383, -0.77291295, -0.75607063, -0.67453472,\n",
       "        -0.67927748, -0.66250599, -0.66405071, -0.66129622, -0.66149487,\n",
       "        -0.66119638, -0.6611645 ]),\n",
       " 'split4_test_score': array([-1.17543649, -1.02923794, -0.77567759, -0.76227154, -0.68334345,\n",
       "        -0.68809479, -0.67287286, -0.6743945 , -0.67201734, -0.67221858,\n",
       "        -0.67195427, -0.6719255 ]),\n",
       " 'split4_train_score': array([-1.17666187, -1.02351792, -0.77074217, -0.7543387 , -0.67310363,\n",
       "        -0.67770519, -0.66106592, -0.66250089, -0.65987538, -0.66003541,\n",
       "        -0.65977278, -0.65973658]),\n",
       " 'std_fit_time': array([0.04906758, 0.19138099, 0.883176  , 0.52239522, 0.66379089,\n",
       "        0.73428694, 0.51063641, 0.29128832, 0.94203077, 0.46793078,\n",
       "        0.96449674, 0.44533369]),\n",
       " 'std_score_time': array([1.06779588e-05, 2.91564470e-03, 3.05164329e-04, 6.44745281e-04,\n",
       "        7.91909598e-04, 1.01023849e-03, 6.25066789e-03, 7.66055555e-03,\n",
       "        6.25327058e-03, 7.66046165e-03, 1.01538327e-05, 9.31774459e-06]),\n",
       " 'std_test_score': array([0.00297483, 0.00401494, 0.00544253, 0.00506934, 0.00531585,\n",
       "        0.00531756, 0.00557831, 0.0056499 , 0.00570851, 0.00572868,\n",
       "        0.00571099, 0.00571991]),\n",
       " 'std_train_score': array([0.00149392, 0.00132752, 0.00172271, 0.00164235, 0.00174103,\n",
       "        0.00173745, 0.00178098, 0.00181444, 0.00178165, 0.00179263,\n",
       "        0.00178457, 0.00178562])}"
      ]
     },
     "execution_count": 14,
     "metadata": {},
     "output_type": "execute_result"
    }
   ],
   "source": [
    "grid.cv_results_"
   ]
  },
  {
   "cell_type": "code",
   "execution_count": 15,
   "metadata": {},
   "outputs": [
    {
     "name": "stdout",
     "output_type": "stream",
     "text": [
      "-0.6718333564052541\n",
      "{'C': 100, 'penalty': 'l2'}\n"
     ]
    }
   ],
   "source": [
    "print(grid.best_score_)\n",
    "print(grid.best_params_)"
   ]
  },
  {
   "cell_type": "code",
   "execution_count": 17,
   "metadata": {},
   "outputs": [
    {
     "name": "stdout",
     "output_type": "stream",
     "text": [
      "[-1.17597536 -1.02389825 -0.7709263  -0.75433198 -0.67254718 -0.67728089\n",
      " -0.66043173 -0.66191649 -0.65923009 -0.65940431 -0.65912957 -0.65909371]\n"
     ]
    },
    {
     "name": "stderr",
     "output_type": "stream",
     "text": [
      "c:\\users\\ydwu\\appdata\\local\\programs\\python\\python35\\lib\\site-packages\\sklearn\\utils\\deprecation.py:122: FutureWarning: You are accessing a training score ('mean_train_score'), which will not be available by default any more in 0.21. If you need training scores, please set return_train_score=True\n",
      "  warnings.warn(*warn_args, **warn_kwargs)\n",
      "c:\\users\\ydwu\\appdata\\local\\programs\\python\\python35\\lib\\site-packages\\sklearn\\utils\\deprecation.py:122: FutureWarning: You are accessing a training score ('std_train_score'), which will not be available by default any more in 0.21. If you need training scores, please set return_train_score=True\n",
      "  warnings.warn(*warn_args, **warn_kwargs)\n"
     ]
    }
   ],
   "source": [
    "train_means=grid.cv_results_['mean_train_score']\n",
    "train_stds=grid.cv_results_['std_train_score']\n",
    "test_means=grid.cv_results_['mean_test_score']\n",
    "test_stds=grid.cv_results_['std_test_score']\n",
    "print(train_means)"
   ]
  },
  {
   "cell_type": "code",
   "execution_count": 29,
   "metadata": {},
   "outputs": [
    {
     "data": {
      "image/png": "[encoded data removed]",
      "text/plain": [
       "<matplotlib.figure.Figure at 0x12d41090ba8>"
      ]
     },
     "metadata": {},
     "output_type": "display_data"
    }
   ],
   "source": [
    "n_Cs=len(Cs)\n",
    "n_penaltys=len(penaltys)\n",
    "train_score=np.array(train_means).reshape(n_Cs,n_penaltys)\n",
    "train_std=np.array(train_stds).reshape(n_Cs,n_penaltys)\n",
    "test_score=np.array(test_means).reshape(n_Cs,n_penaltys)\n",
    "test_std=np.array(test_stds).reshape(n_Cs,n_penaltys)\n",
    "x_axis=np.log10(Cs)\n",
    "for i ,value in enumerate(penaltys):\n",
    "    plt.errorbar(x_axis,train_score[:,i],yerr=train_std[:,i],label=penaltys[i]+'train')\n",
    "    plt.errorbar(x_axis,test_score[:,i],yerr=test_std[:,i],label=penaltys[i]+'test')\n",
    "plt.legend()\n",
    "plt.xlabel('log(C)')\n",
    "plt.ylabel('neg_logloss')\n",
    "plt.show()"
   ]
  },
  {
   "cell_type": "markdown",
   "metadata": {},
   "source": [
    "L1正则"
   ]
  },
  {
   "cell_type": "code",
   "execution_count": 7,
   "metadata": {},
   "outputs": [
    {
     "data": {
      "text/plain": [
       "LogisticRegressionCV(Cs=[1, 10, 100, 1000], class_weight=None, cv=5,\n",
       "           dual=False, fit_intercept=True, intercept_scaling=1.0,\n",
       "           max_iter=100, multi_class='ovr', n_jobs=1, penalty='l1',\n",
       "           random_state=None, refit=True, scoring='neg_log_loss',\n",
       "           solver='liblinear', tol=0.0001, verbose=0)"
      ]
     },
     "execution_count": 7,
     "metadata": {},
     "output_type": "execute_result"
    }
   ],
   "source": [
    "from  sklearn.linear_model import LogisticRegressionCV\n",
    "Cs=[1,10,100,1000]\n",
    "lr_l1=LogisticRegressionCV(Cs=Cs,penalty='l1',cv=5,scoring='neg_log_loss',solver='liblinear',multi_class='ovr')\n",
    "lr_l1.fit(X_data,Y_data)"
   ]
  },
  {
   "cell_type": "code",
   "execution_count": 8,
   "metadata": {},
   "outputs": [
    {
     "data": {
      "text/plain": [
       "{0: array([[-0.08352357, -0.08351859, -0.08351929, -0.08351933],\n",
       "        [-0.08855237, -0.08870852, -0.08872613, -0.08872808],\n",
       "        [-0.08310834, -0.08322743, -0.08324093, -0.08324243],\n",
       "        [-0.08218094, -0.08218973, -0.08219015, -0.08219017],\n",
       "        [-0.08079015, -0.08076729, -0.08076558, -0.08076541]]),\n",
       " 1: array([[-0.31682801, -0.31682221, -0.316823  , -0.31682379],\n",
       "        [-0.32032753, -0.32039098, -0.32039816, -0.32039855],\n",
       "        [-0.31523858, -0.31526713, -0.31527008, -0.3152695 ],\n",
       "        [-0.31668862, -0.31669422, -0.31669202, -0.31669236],\n",
       "        [-0.31923593, -0.31928647, -0.31929286, -0.31929207]]),\n",
       " 2: array([[-0.26140504, -0.26141918, -0.261421  , -0.26142103],\n",
       "        [-0.26185401, -0.26187979, -0.26188368, -0.26188366],\n",
       "        [-0.26768144, -0.26772839, -0.26772902, -0.26772922],\n",
       "        [-0.26380682, -0.26382867, -0.2638311 , -0.26383156],\n",
       "        [-0.2632647 , -0.2632879 , -0.26329142, -0.26329147]]),\n",
       " 3: array([[-0.13062809, -0.13080905, -0.13082936, -0.13083108],\n",
       "        [-0.12742619, -0.12747526, -0.12748413, -0.12748499],\n",
       "        [-0.12529063, -0.12529285, -0.12529466, -0.12529465],\n",
       "        [-0.12718142, -0.12721707, -0.12722164, -0.12722212],\n",
       "        [-0.13061264, -0.13074843, -0.13076589, -0.13076824]]),\n",
       " 4: array([[-0.01544961, -0.01577894, -0.01586305, -0.01587014],\n",
       "        [-0.01202244, -0.01222788, -0.01236778, -0.01238161],\n",
       "        [-0.01433794, -0.01462079, -0.01466681, -0.01467078],\n",
       "        [-0.0185415 , -0.01919869, -0.01948728, -0.01954618],\n",
       "        [-0.01407564, -0.01390059, -0.01391828, -0.01392134]]),\n",
       " 5: array([[-0.11884402, -0.11891621, -0.11892522, -0.11892545],\n",
       "        [-0.11643977, -0.11660734, -0.11662274, -0.11662667],\n",
       "        [-0.10609969, -0.10607351, -0.10606998, -0.10607165],\n",
       "        [-0.10410877, -0.10414524, -0.1041491 , -0.10414914],\n",
       "        [-0.10736406, -0.10739685, -0.10740109, -0.1074016 ]]),\n",
       " 6: array([[-0.10058107, -0.10063924, -0.10064574, -0.10064659],\n",
       "        [-0.11305484, -0.11313303, -0.11314173, -0.11314254],\n",
       "        [-0.10450559, -0.10452727, -0.10453018, -0.10453031],\n",
       "        [-0.10078704, -0.10081472, -0.10081814, -0.10081851],\n",
       "        [-0.10068636, -0.10074322, -0.10075031, -0.10075107]]),\n",
       " 7: array([[-0.10177134, -0.10178675, -0.10178824, -0.10178841],\n",
       "        [-0.11022444, -0.11031175, -0.11032217, -0.11032488],\n",
       "        [-0.10008547, -0.10007883, -0.10007848, -0.10007874],\n",
       "        [-0.10345943, -0.10347921, -0.10348204, -0.10348258],\n",
       "        [-0.10526783, -0.10531079, -0.10531402, -0.10531525]]),\n",
       " 8: array([[-0.09436449, -0.09453024, -0.09454924, -0.09455115],\n",
       "        [-0.08332474, -0.08332989, -0.08333148, -0.08333131],\n",
       "        [-0.09287015, -0.09289519, -0.09289869, -0.0928974 ],\n",
       "        [-0.09000685, -0.09010213, -0.09011288, -0.09011393],\n",
       "        [-0.09095367, -0.09094993, -0.09095086, -0.09095104]])}"
      ]
     },
     "execution_count": 8,
     "metadata": {},
     "output_type": "execute_result"
    }
   ],
   "source": [
    "lr_l1.scores_"
   ]
  },
  {
   "cell_type": "code",
   "execution_count": 9,
   "metadata": {},
   "outputs": [
    {
     "data": {
      "text/plain": [
       "array([[-4.48007708e-02, -1.82105115e-01, -3.33943963e-01,\n",
       "        -1.32154468e-01,  6.85644389e-02,  5.58906534e-02,\n",
       "         8.73000576e-02,  6.00905873e-02, -1.02847646e+00,\n",
       "         2.67956875e-02, -1.40901958e+00,  1.41477474e-02,\n",
       "        -2.80662363e-01, -1.10579448e+00, -1.67704859e+00,\n",
       "        -7.18263693e-02,  3.14197234e-01,  1.31891575e-01,\n",
       "        -6.49715225e-01,  1.16809869e-01, -5.45439333e-03,\n",
       "         5.97469944e-02,  1.18196851e-01,  3.36824084e-01,\n",
       "        -7.92686202e-01, -1.30464418e-01, -1.27786790e-01,\n",
       "         7.43287566e-02, -2.85531594e-01,  2.22176770e-01,\n",
       "        -4.11301029e-01,  8.97202675e-02, -2.90523189e-01,\n",
       "        -1.04226962e+00, -5.83894120e-01, -1.71005754e-01,\n",
       "         2.03484556e-01, -1.02889771e-01, -1.44843082e-01,\n",
       "        -1.26938406e+00, -2.59961808e-01, -4.48983566e-01,\n",
       "        -1.75096023e+00,  1.44901055e-01, -3.11400169e-01,\n",
       "        -2.38811421e-01, -2.03724973e-01,  3.65400908e-02,\n",
       "         4.30925668e-02, -5.61944735e-01,  2.54884333e-02,\n",
       "         6.54880297e-03,  1.63083518e-01, -1.62169798e-02,\n",
       "         1.24769874e-01, -2.06478698e-01, -1.81555841e-01,\n",
       "        -2.20078296e+00, -2.52152581e-01, -5.19295282e-01,\n",
       "         1.77420142e-01,  9.68509440e-02, -4.83264818e-02,\n",
       "        -2.12127944e-01, -6.88245796e-03,  2.26486749e-01,\n",
       "         3.03912558e-01, -3.52353260e-01, -9.48694462e-01,\n",
       "         3.04779762e-01,  8.45208123e-02, -4.48314491e-01,\n",
       "        -2.29801027e-01, -6.47967808e-01, -5.76857310e-01,\n",
       "         2.60702634e-01,  2.36401733e-01, -5.27762068e-02,\n",
       "         1.06501347e-01,  6.54814239e-02,  1.66412882e-01,\n",
       "        -2.29207987e-01,  4.07456593e-03,  1.01304052e-01,\n",
       "         6.92813727e-02, -3.76286545e-01, -5.63777393e-02,\n",
       "        -1.40276501e-01, -1.01794347e-01, -1.00720568e+00,\n",
       "        -1.47018011e-01,  8.10137341e-02, -2.31351912e-01],\n",
       "       [-2.33382830e-03, -2.58559159e-01, -2.74033331e-01,\n",
       "         1.70436534e-02,  5.09000616e-02,  1.96577799e-02,\n",
       "        -1.33455964e-01, -2.13533108e-01,  9.72501223e-02,\n",
       "         2.75789326e-02, -9.73016369e-01,  1.12254273e-01,\n",
       "        -4.38345213e-01,  1.11924296e-01,  1.24066049e-01,\n",
       "         1.09498616e-01, -5.77310691e-01,  2.58403053e-02,\n",
       "        -7.27766642e-01, -1.80169048e-01,  3.86781190e-02,\n",
       "        -4.17112499e-02, -2.52921712e-01,  1.81049393e-01,\n",
       "         2.09128316e-01, -1.18353253e+00, -5.97182998e-01,\n",
       "        -9.34242507e-02, -7.77112365e-01, -6.99513086e-01,\n",
       "        -2.20676462e-02, -2.03060336e-01,  2.47103335e-01,\n",
       "        -6.27986429e-01, -2.11820020e-01, -8.41926134e-01,\n",
       "        -2.80642147e-02,  6.64729643e-02, -4.04628874e-01,\n",
       "         1.16175475e-01, -4.43017116e-01, -7.57290627e-01,\n",
       "        -1.12681436e-02, -1.76251969e-02, -1.54426363e-02,\n",
       "        -3.00744653e-01, -4.16724393e-01,  3.75829893e-01,\n",
       "         1.84538080e-02, -1.57288236e-01, -2.06443489e-01,\n",
       "         2.32095481e-02, -3.92738074e-01,  1.73016631e-01,\n",
       "        -8.12218794e-02, -2.29068660e-01, -5.38292356e-01,\n",
       "        -5.05174649e-01, -7.13345175e-01, -8.51735904e-01,\n",
       "        -2.21443413e-01, -4.98574309e-02,  1.16910243e-01,\n",
       "         1.53668674e-01,  3.82376917e-02,  8.63391281e-02,\n",
       "         1.29053877e-01, -8.49512958e-01, -4.37734194e-01,\n",
       "        -1.64774790e-02, -3.91284835e-01,  1.63170234e-01,\n",
       "        -2.59349049e-01,  6.72789236e-02, -1.06360499e+00,\n",
       "        -2.39263314e-01,  2.91568169e-01, -1.00004163e+00,\n",
       "        -2.60446323e-01, -2.53777401e-01, -8.89983776e-02,\n",
       "         2.39780981e-02, -7.54047723e-02, -8.36618680e-01,\n",
       "        -1.93609123e-02,  1.17295734e-02,  6.72393000e-02,\n",
       "        -7.36338621e-02,  3.22857865e-02, -1.07175636e+00,\n",
       "        -7.39185807e-01,  7.96586674e-02, -6.03962322e-02],\n",
       "       [-1.20246961e-01, -7.63772269e-02, -2.21053622e-01,\n",
       "        -1.05978344e-01, -9.29162967e-02, -1.35698176e-02,\n",
       "        -1.93420438e-01, -1.43675662e-01,  1.99611735e-01,\n",
       "        -5.43714088e-02, -7.40660469e-01, -2.93342285e-02,\n",
       "         2.77928996e-03,  1.42846391e-01,  7.85788310e-02,\n",
       "         1.56232033e-01, -4.65580826e-01, -6.89411495e-02,\n",
       "        -1.91685484e-01, -1.92092567e-01,  5.07764987e-02,\n",
       "        -7.93918545e-02,  1.12782848e-02,  1.76688815e-01,\n",
       "        -2.29624557e-02, -8.77204048e-01,  8.22677372e-02,\n",
       "        -8.54406903e-02,  8.75923388e-02,  2.21646081e-01,\n",
       "         5.55264614e-02,  2.51778586e-01, -6.48282351e-02,\n",
       "        -4.23990763e-01, -2.06894164e-01, -1.20219358e-01,\n",
       "        -2.16932770e-02,  9.41445420e-02, -2.15824340e-01,\n",
       "         2.20000890e-01,  1.55036607e-02, -4.50568623e-01,\n",
       "         3.32265536e-01, -4.12195894e-03, -2.68185626e-01,\n",
       "         1.69746941e-02, -6.01124880e-01, -7.55168425e-02,\n",
       "         2.47101315e-02,  9.77790572e-03, -1.24299927e-01,\n",
       "         1.05492370e-02, -1.08243284e-01, -2.39767683e-02,\n",
       "        -1.20858725e-02,  5.64797655e-02, -4.47293288e-01,\n",
       "        -3.09189425e-01, -4.11775911e-01, -2.69137398e+00,\n",
       "        -2.20483808e-01,  5.36673676e-02,  2.29621738e-02,\n",
       "         2.09120979e-01, -4.77812885e-02, -1.50108416e-02,\n",
       "        -4.27372103e-01, -1.80289548e-01, -1.08129344e+00,\n",
       "         6.18078532e-02,  1.36637843e-01, -2.89365027e-02,\n",
       "        -1.00900924e+00, -5.29132249e-01, -6.93609022e-01,\n",
       "        -4.45841130e-01, -4.46013065e-01, -1.07510521e-01,\n",
       "        -6.12545201e-02,  1.09242328e-01, -4.05465374e-02,\n",
       "        -3.36099874e-01,  2.99027079e-01, -7.41581493e-01,\n",
       "         1.25834814e-01,  1.78384366e-01, -1.12876534e-01,\n",
       "         9.70737084e-02,  1.94172740e-01, -7.12509939e-01,\n",
       "        -4.62604990e-01, -7.00782619e-01, -2.93352701e-01],\n",
       "       [ 2.46468331e-01, -3.22994259e-01, -6.37096893e-01,\n",
       "        -6.62567797e-01,  5.62347304e-02,  3.96368460e-03,\n",
       "        -1.61141053e-01, -2.46421244e-02, -6.19716870e-01,\n",
       "         6.15696693e-02, -1.24198638e+00, -1.16565334e-01,\n",
       "         7.45647769e-02,  2.83265578e-02,  3.71260295e-01,\n",
       "        -2.43905557e-02, -4.90861043e-01, -3.15976362e-01,\n",
       "        -1.02654914e-02,  8.78545950e-02, -7.92780836e-02,\n",
       "         6.31246810e-02,  4.69532373e-02, -8.20517390e-01,\n",
       "         3.39812828e-01,  6.93739387e-01,  4.05074742e-02,\n",
       "        -2.71930739e-01, -2.35553315e-01, -4.09242412e-01,\n",
       "        -1.04560232e-01, -2.21056075e-01, -2.50200540e-02,\n",
       "        -4.65568993e-01, -8.60241048e-01, -6.36449487e-03,\n",
       "        -1.26689482e-02, -6.33646848e-02, -6.31000022e-01,\n",
       "         5.57060682e-02, -2.13073046e-02,  1.40248056e-01,\n",
       "         6.75080576e-02,  1.13417452e-01, -7.47509799e-02,\n",
       "         0.00000000e+00, -9.64384477e-01, -4.40779782e-01,\n",
       "        -3.41921127e-01, -7.14856105e-02, -3.18376334e-01,\n",
       "         2.42265321e-01, -3.02298204e-02, -1.76731410e-01,\n",
       "         2.62443925e-02,  4.71010461e-02, -6.17879064e-01,\n",
       "        -2.05684669e+00, -6.83383284e-01, -1.36744615e-01,\n",
       "        -5.21408265e-01, -7.80220357e-01,  6.75841328e-02,\n",
       "         2.68445520e-03, -1.24224764e-01, -1.53718390e-02,\n",
       "        -8.73371379e-01, -6.52209494e-02, -4.43807596e-02,\n",
       "         1.45071615e-02, -2.21057876e-01, -1.45449477e-02,\n",
       "        -1.13300608e-01,  3.62084834e-02, -2.64797550e-01,\n",
       "        -9.86704996e-01, -4.34207866e-01, -6.39736420e-02,\n",
       "         8.54508466e-02,  8.40718469e-03, -1.46230775e-01,\n",
       "        -2.92905248e-01, -1.27296003e-01, -7.66707961e-01,\n",
       "         1.40825203e-01,  1.88051451e-01,  3.30548310e-01,\n",
       "         1.20558381e-01, -1.63768115e-01, -8.53302465e-01,\n",
       "         0.00000000e+00,  1.50237768e-01, -4.89960742e-01],\n",
       "       [-3.29966455e-01,  0.00000000e+00,  8.96734044e-01,\n",
       "        -1.85380236e-01, -5.92197061e-02, -6.89695012e-02,\n",
       "        -6.41350463e-01,  1.88885424e-01, -1.68680800e-02,\n",
       "        -4.94449175e-01, -3.41466050e+00,  2.09943309e-01,\n",
       "         9.21868008e-02, -1.30294942e+00, -8.36269079e-01,\n",
       "         2.32346215e-03, -1.52335278e+00,  1.87813853e-01,\n",
       "        -3.01961742e-01, -2.90973867e-02, -4.82915969e-01,\n",
       "         2.80839135e-01,  0.00000000e+00, -4.27281182e-01,\n",
       "        -1.19163760e+00, -1.66481632e+00, -4.61569780e-01,\n",
       "        -1.56324559e-01, -8.32828376e-01, -8.67506300e-01,\n",
       "         1.91145721e-01,  3.03093165e-01,  2.53303496e-01,\n",
       "         3.13811792e+00, -2.36227582e-01, -1.10657459e+00,\n",
       "         2.25683200e-02, -6.63220420e-02, -8.60216547e+00,\n",
       "        -4.68079417e-02, -1.25736539e-01, -4.60980816e-01,\n",
       "        -6.00468719e+00,  0.00000000e+00,  0.00000000e+00,\n",
       "        -4.51669588e-01, -1.39239761e+00, -9.86748676e-02,\n",
       "         0.00000000e+00, -6.61632399e-01, -1.62677417e-01,\n",
       "        -1.12271973e+00, -4.15652310e-02, -6.06146939e-01,\n",
       "        -2.41810909e-01, -4.32902798e-01,  0.00000000e+00,\n",
       "        -8.39286666e-01, -3.47440415e+00, -2.57659877e+00,\n",
       "         0.00000000e+00, -4.42185032e-01, -9.06258692e-02,\n",
       "        -3.43599306e-01, -1.03228444e-01,  9.38877427e-02,\n",
       "        -4.26502783e-01, -5.67753476e-01, -7.42785697e-01,\n",
       "        -1.53229977e-01,  3.68958046e-01, -1.24332844e+00,\n",
       "        -5.05413269e+00,  0.00000000e+00, -3.09531426e+00,\n",
       "        -1.44422134e+00, -5.50936540e-01, -5.94100844e-01,\n",
       "         0.00000000e+00,  0.00000000e+00, -3.02688779e-01,\n",
       "        -2.72816562e-01, -4.05125612e+00, -1.39076956e+00,\n",
       "        -2.78195703e-01, -2.23005109e+00,  1.73952829e-01,\n",
       "        -7.57025829e-01, -3.95096129e-01, -8.02397949e-01,\n",
       "        -6.95490307e-01,  7.11198343e-02,  0.00000000e+00],\n",
       "       [ 9.61293306e-02,  8.21072933e-03,  2.59908695e-01,\n",
       "        -4.85993535e-03, -1.21881620e-01,  1.97438910e-02,\n",
       "        -1.76508081e-01, -1.52906739e-01, -5.80848927e-01,\n",
       "        -6.29818201e-02,  2.26964990e+00, -4.12384623e-02,\n",
       "         2.29734966e-03, -1.01861337e+00, -1.05412332e+00,\n",
       "         1.07187530e-03,  2.03331273e-02,  1.64966212e-01,\n",
       "        -6.12503700e-01, -2.79713663e-02,  5.92341368e-04,\n",
       "         6.85157231e-02,  5.63420322e-02, -1.82653014e-03,\n",
       "        -4.00543901e-01,  5.66344480e-01,  1.88342526e-01,\n",
       "        -2.46632332e-03,  1.32870745e-01, -2.88433515e-01,\n",
       "         8.00354095e-02, -1.83768424e-01, -1.44645152e-01,\n",
       "        -9.44526074e-01, -8.09142365e-01, -1.96773169e-01,\n",
       "        -8.96726964e-02, -1.58242263e-01,  3.99993742e-02,\n",
       "        -9.76742538e-01, -9.73579549e-02,  9.95107490e-01,\n",
       "        -1.97658190e-01,  1.41936696e-01,  7.70679840e-02,\n",
       "         2.30716866e-01,  7.10512623e-02, -2.38737931e-01,\n",
       "         5.01583400e-03,  3.56035843e-02,  1.35482347e-02,\n",
       "        -1.60883490e-01, -7.08474846e-02,  1.43741297e-01,\n",
       "         5.18307216e-02, -2.32130494e-01,  6.02339828e-01,\n",
       "        -4.83648661e-01,  6.15512352e-02,  1.22075039e+00,\n",
       "         3.32612074e-01, -5.15852286e-01, -1.23053569e-02,\n",
       "         2.95328380e-01, -4.20706869e-02,  2.45054917e-02,\n",
       "        -5.80534904e-03, -2.49065900e-01, -4.20901922e-01,\n",
       "        -5.21309446e-02, -1.49228550e-01, -6.21273647e-01,\n",
       "        -3.21269413e-01,  2.66744374e-01, -2.51649076e-01,\n",
       "        -2.46486200e-01, -1.29594300e-01, -9.10505786e-01,\n",
       "         1.24724279e-01, -6.94676163e-03,  2.88728364e-03,\n",
       "         8.83797731e-02, -4.15126306e-02, -2.54511133e-01,\n",
       "        -8.47731808e-02, -1.05728277e-01,  1.65127348e-01,\n",
       "        -4.06858049e-01, -2.21193326e-01, -6.92993136e-01,\n",
       "        -1.52058667e-02,  7.57767469e-02,  4.49193122e-01],\n",
       "       [-2.78642538e-02,  1.38457629e-01, -1.21564359e-01,\n",
       "        -1.06694743e-01, -1.08352890e-01,  8.04588607e-03,\n",
       "        -1.53561524e-02, -3.02723456e-01, -1.07138410e+00,\n",
       "         5.46609073e-02, -5.64132560e-01,  7.69610706e-02,\n",
       "        -3.82574851e-01, -4.75349489e-01, -1.32762612e+00,\n",
       "         2.62460974e-01,  1.46003520e-01, -4.57950094e-02,\n",
       "        -4.38150166e-01, -2.84434841e-02,  1.41274404e-02,\n",
       "        -6.12455576e-02,  2.55853761e-01,  7.70563051e-02,\n",
       "        -4.10401735e-01, -3.37877423e-01, -9.23270036e-01,\n",
       "         4.21800376e-03, -5.71010639e-02, -2.23619474e-01,\n",
       "        -6.64904515e-02,  6.61822238e-01, -8.00687379e-02,\n",
       "        -8.20055535e-01, -2.10304120e-01, -5.45594941e-01,\n",
       "         7.67853958e-02,  2.12957904e-01,  6.60989551e-01,\n",
       "        -8.60542153e-01, -1.71455886e-01, -2.46903685e-01,\n",
       "         2.02979508e-02,  5.44290471e-02,  1.97001699e-01,\n",
       "        -2.66971030e-01,  4.52980137e-02,  9.58321847e-02,\n",
       "         1.10512983e-01,  5.32213983e-01,  3.44491820e-02,\n",
       "         9.39597781e-02, -2.09589430e-01, -1.72782786e-01,\n",
       "         3.73487213e-02,  2.72146074e-01, -2.56942432e-03,\n",
       "        -4.43349233e-01, -1.04007162e-01, -3.65758631e-01,\n",
       "        -3.98493999e-01, -5.52952477e-01,  2.72241153e-03,\n",
       "         1.18649518e-01, -1.87681366e-02,  1.37061705e-01,\n",
       "        -2.16439773e-01, -3.11095139e-01, -5.28297116e-01,\n",
       "         1.27656213e-01,  2.58013582e-02, -2.87032394e-01,\n",
       "        -5.51700132e-01, -1.75736241e-01, -7.12714873e-01,\n",
       "        -1.83472842e-01, -3.00319368e-02, -1.61425213e-01,\n",
       "         6.64714499e-02, -2.73633308e-03,  9.90952170e-02,\n",
       "         9.90507583e-03,  1.19376559e-01, -9.00949844e-01,\n",
       "        -9.16314396e-02,  2.18405030e-01,  2.18098232e-03,\n",
       "        -8.24901141e-02, -2.63167198e-02, -4.77429590e-01,\n",
       "        -2.65334978e-02, -2.23406464e-01, -1.30639906e-01],\n",
       "       [ 9.06038138e-02, -2.26573051e-01, -3.49083089e-01,\n",
       "         9.43264750e-02, -1.31223698e-02,  5.74396478e-03,\n",
       "         1.14589275e-01, -1.40544299e-01, -1.80656954e-01,\n",
       "         1.06648009e-01, -1.59529232e+00,  3.80134968e-02,\n",
       "         1.64280833e-01, -1.03039359e+00, -1.66792806e+00,\n",
       "        -8.53204864e-02, -2.17035164e-01,  0.00000000e+00,\n",
       "         8.32695195e-01,  2.89458690e-01,  9.02921982e-03,\n",
       "         4.75835859e-02, -6.20899294e-02,  4.76087777e-02,\n",
       "        -1.98212745e-01, -4.27243708e-01, -9.35869174e-02,\n",
       "         2.03566864e-01, -7.29391151e-02, -1.84424530e-01,\n",
       "         1.64990570e-01, -2.55936063e-01,  3.85745729e-02,\n",
       "        -9.86662535e-01,  8.87778698e-01, -4.98224323e-01,\n",
       "         2.78234808e-01,  3.48943834e-01, -8.05730545e-01,\n",
       "        -9.30554097e-01,  4.54602415e-02, -4.94282556e-01,\n",
       "        -9.93644113e-01,  7.17556513e-03, -5.85299230e-01,\n",
       "         1.19670411e-01,  2.96694815e-01, -4.30135216e-01,\n",
       "        -8.91174357e-02, -2.37035854e-01,  6.06397619e-02,\n",
       "         5.61159356e-02, -4.06231147e-01,  1.21228484e-01,\n",
       "        -5.18451683e-02, -1.96617322e-01, -2.04261617e-01,\n",
       "         7.98507532e-01, -5.40242054e-01, -9.56185422e-01,\n",
       "        -1.18344668e-01, -6.90603409e-02, -4.40589448e-02,\n",
       "         4.78992943e-02,  8.86345910e-02,  5.84211501e-02,\n",
       "         9.16804471e-02,  7.44577668e-01,  1.44360735e+00,\n",
       "         3.82758452e-02,  3.22512535e-01, -5.25575095e-01,\n",
       "         6.85434226e-01,  3.13133197e-02,  1.10392698e+00,\n",
       "         9.07199921e-02, -3.48615373e-01,  4.44190525e-01,\n",
       "        -2.52313463e-01,  1.08076742e-01,  6.84565543e-02,\n",
       "        -1.23308064e-01,  9.92105127e-02,  1.68602431e-01,\n",
       "        -2.91899938e-01, -1.11572897e+00, -2.67667265e-01,\n",
       "        -3.88951136e-01,  1.45799892e-01,  1.53043784e+00,\n",
       "        -7.59483334e-01, -7.82142470e-02, -7.26990869e-02],\n",
       "       [ 1.35829186e-01, -7.72816514e-02, -1.26330323e-01,\n",
       "        -1.79344488e-01, -5.56980045e-02, -1.49621500e-01,\n",
       "        -1.15431183e-01,  1.63716177e-01, -8.56803445e-01,\n",
       "        -1.51822907e-01, -1.38841318e+00, -1.01064922e-01,\n",
       "         1.56022845e-01, -9.25177361e-01, -1.31540018e+00,\n",
       "         7.10186787e-02,  9.10603863e-02,  8.29795323e-02,\n",
       "        -4.85528475e-01, -1.81111074e-01,  1.33478121e-01,\n",
       "         3.29759967e-01, -2.29222616e-01, -2.26949488e-01,\n",
       "        -1.26082920e-01, -1.17451664e-01, -2.66663946e-02,\n",
       "        -3.53664186e-02, -2.09147702e-02,  6.06880299e-01,\n",
       "         1.98793451e-02,  3.36629250e-04,  1.74372838e-03,\n",
       "        -1.08148983e+00, -3.14460808e-01,  6.81203321e-01,\n",
       "        -2.06951112e-01, -3.11854881e-01, -5.87437810e-01,\n",
       "        -1.31881254e+00,  3.92802229e-01, -4.52315466e-01,\n",
       "        -1.08873150e+00,  0.00000000e+00, -1.48342033e+00,\n",
       "        -6.13189548e-01, -5.78669061e-01,  4.40971049e-02,\n",
       "        -8.62132330e-02, -2.08572133e-01,  3.45224470e-02,\n",
       "         5.65774110e-02,  2.71472766e-01, -1.13720501e-01,\n",
       "        -1.03659371e-01, -3.90909114e-02, -1.89927347e-01,\n",
       "        -3.98270842e-01,  7.43337908e-01, -8.66596546e-01,\n",
       "        -1.74923207e-01,  8.46611675e-01, -4.05069600e-02,\n",
       "        -7.02800940e-01, -8.49752193e-02,  1.22017709e-01,\n",
       "         2.28312933e-01, -1.95724358e-01, -7.90704859e-01,\n",
       "        -2.43171055e-01, -1.54347351e-01, -4.92283921e-01,\n",
       "        -7.82430518e-01,  1.00428842e-01, -2.80539073e-01,\n",
       "        -1.55290787e-01,  2.08761476e-01, -4.31025877e-01,\n",
       "         4.89811535e-02, -7.52774581e-02, -1.03561471e-01,\n",
       "         1.81652368e-01,  1.50258673e-01, -1.28445882e+00,\n",
       "        -1.89753123e-01, -2.79684618e-01,  1.18726566e-01,\n",
       "        -8.65089865e-01,  1.31049103e-01, -6.00485107e-01,\n",
       "         4.49186877e-01,  2.08293404e-01, -2.84048602e-01]])"
      ]
     },
     "execution_count": 9,
     "metadata": {},
     "output_type": "execute_result"
    }
   ],
   "source": [
    "lr_l1.coef_"
   ]
  },
  {
   "cell_type": "code",
   "execution_count": 43,
   "metadata": {},
   "outputs": [
    {
     "data": {
      "text/plain": [
       "array([[-0.08363107, -0.08368231, -0.08368842, -0.08368908],\n",
       "       [-0.31766373, -0.3176922 , -0.31769522, -0.31769525],\n",
       "       [-0.2636024 , -0.26362879, -0.26363124, -0.26363139],\n",
       "       [-0.1282278 , -0.12830853, -0.12831914, -0.12832021],\n",
       "       [-0.01488543, -0.01514538, -0.01526064, -0.01527801],\n",
       "       [-0.11057126, -0.11062783, -0.11063363, -0.1106349 ],\n",
       "       [-0.10392298, -0.1039715 , -0.10397722, -0.1039778 ],\n",
       "       [-0.10416171, -0.10419347, -0.10419699, -0.10419797],\n",
       "       [-0.09030398, -0.09036147, -0.09036863, -0.09036897]])"
      ]
     },
     "execution_count": 43,
     "metadata": {},
     "output_type": "execute_result"
    }
   ],
   "source": [
    "n_c=len(Cs)\n",
    "n_classes=9\n",
    "scores=np.zeros((n_classes,n_c))\n",
    "\n",
    "for j in range (n_classes):\n",
    "    scores[j][:]=np.mean(lr_l1.scores_[j],axis=0)\n",
    "scores\n"
   ]
  },
  {
   "cell_type": "code",
   "execution_count": 18,
   "metadata": {},
   "outputs": [
    {
     "data": {
      "text/plain": [
       "[<matplotlib.lines.Line2D at 0x11b8cccd780>]"
      ]
     },
     "execution_count": 18,
     "metadata": {},
     "output_type": "execute_result"
    },
    {
     "data": {
      "image/png": "[encoded data removed]",
      "text/plain": [
       "<matplotlib.figure.Figure at 0x11b8b752e10>"
      ]
     },
     "metadata": {},
     "output_type": "display_data"
    }
   ],
   "source": [
    "mse_mean=-np.mean(scores,axis=0)\n",
    "plt.plot(np.log10(Cs),mse_mean.reshape(n_c,1))"
   ]
  },
  {
   "cell_type": "code",
   "execution_count": 42,
   "metadata": {},
   "outputs": [
    {
     "data": {
      "text/plain": [
       "array([-0.09030398, -0.09036147, -0.09036863, -0.09036897])"
      ]
     },
     "execution_count": 42,
     "metadata": {},
     "output_type": "execute_result"
    }
   ],
   "source": [
    "# n_c=len(Cs)\n",
    "# n_classes=9\n",
    "# scores=np.zeros((n_classes,n_c))\n",
    "# a=np.mean(lr_l1.scores_[8],axis=0)\n",
    "\n",
    "# a"
   ]
  },
  {
   "cell_type": "code",
   "execution_count": 41,
   "metadata": {},
   "outputs": [
    {
     "data": {
      "text/plain": [
       "-0.0836727215"
      ]
     },
     "execution_count": 41,
     "metadata": {},
     "output_type": "execute_result"
    }
   ],
   "source": [
    "# b=([[-0.08352357, -0.08351859, -0.08351929, -0.08351933],\n",
    "#         [-0.08855237, -0.08870852, -0.08872613, -0.08872808],\n",
    "#         [-0.08310834, -0.08322743, -0.08324093, -0.08324243],\n",
    "#         [-0.08218094, -0.08218973, -0.08219015, -0.08219017],\n",
    "#         [-0.08079015, -0.08076729, -0.08076558, -0.08076541]])\n",
    "# a=np.mean(b)\n",
    "# a"
   ]
  },
  {
   "cell_type": "markdown",
   "metadata": {},
   "source": [
    "L2正则"
   ]
  },
  {
   "cell_type": "code",
   "execution_count": 49,
   "metadata": {},
   "outputs": [
    {
     "data": {
      "text/plain": [
       "LogisticRegressionCV(Cs=[1, 10, 100, 1000], class_weight=None, cv=5,\n",
       "           dual=False, fit_intercept=True, intercept_scaling=1.0,\n",
       "           max_iter=100, multi_class='ovr', n_jobs=1, penalty='l2',\n",
       "           random_state=None, refit=True, scoring='neg_log_loss',\n",
       "           solver='liblinear', tol=0.0001, verbose=0)"
      ]
     },
     "execution_count": 49,
     "metadata": {},
     "output_type": "execute_result"
    }
   ],
   "source": [
    "from  sklearn.linear_model import LogisticRegressionCV\n",
    "Cs=[1,10,100,1000]\n",
    "lr_l2=LogisticRegressionCV(Cs=Cs,penalty='l2',cv=5,scoring='neg_log_loss',solver='liblinear',multi_class='ovr')\n",
    "lr_l2.fit(X_data,Y_data)"
   ]
  },
  {
   "cell_type": "code",
   "execution_count": 50,
   "metadata": {},
   "outputs": [
    {
     "data": {
      "text/plain": [
       "array([[-0.08360139, -0.08367588, -0.08368826, -0.0836895 ],\n",
       "       [-0.31767156, -0.31769403, -0.31769672, -0.31769706],\n",
       "       [-0.26361368, -0.26362997, -0.2636325 , -0.2636329 ],\n",
       "       [-0.12824515, -0.12830737, -0.12831968, -0.12832096],\n",
       "       [-0.01552731, -0.01494204, -0.0152101 , -0.01529672],\n",
       "       [-0.11060644, -0.11063288, -0.11063582, -0.11063609],\n",
       "       [-0.10393413, -0.10397254, -0.10397751, -0.103978  ],\n",
       "       [-0.10415016, -0.10419368, -0.10419885, -0.1041994 ],\n",
       "       [-0.09029129, -0.09035862, -0.09036898, -0.09037006]])"
      ]
     },
     "execution_count": 50,
     "metadata": {},
     "output_type": "execute_result"
    }
   ],
   "source": [
    "n_c=len(Cs)\n",
    "n_classes=9\n",
    "scores=np.zeros((n_classes,n_c))\n",
    "\n",
    "for j in range (n_classes):\n",
    "    scores[j][:]=np.mean(lr_l2.scores_[j],axis=0)\n",
    "scores\n"
   ]
  },
  {
   "cell_type": "code",
   "execution_count": 51,
   "metadata": {},
   "outputs": [
    {
     "data": {
      "text/plain": [
       "[<matplotlib.lines.Line2D at 0x11b8deb8cf8>]"
      ]
     },
     "execution_count": 51,
     "metadata": {},
     "output_type": "execute_result"
    },
    {
     "data": {
      "image/png": "[encoded data removed]",
      "text/plain": [
       "<matplotlib.figure.Figure at 0x11b8dea6a20>"
      ]
     },
     "metadata": {},
     "output_type": "display_data"
    }
   ],
   "source": [
    "mse_mean=-np.mean(scores,axis=0)\n",
    "plt.plot(np.log10(Cs),mse_mean.reshape(n_c,1))"
   ]
  },
  {
   "cell_type": "code",
   "execution_count": null,
   "metadata": {},
   "outputs": [],
   "source": []
  },
  {
   "cell_type": "code",
   "execution_count": null,
   "metadata": {},
   "outputs": [],
   "source": []
  }
 ],
 "metadata": {
  "kernelspec": {
   "display_name": "Python 3",
   "language": "python",
   "name": "python3"
  },
  "language_info": {
   "codemirror_mode": {
    "name": "ipython",
    "version": 3
   },
   "file_extension": ".py",
   "mimetype": "text/x-python",
   "name": "python",
   "nbconvert_exporter": "python",
   "pygments_lexer": "ipython3",
   "version": "3.5.4"
  }
 },
 "nbformat": 4,
 "nbformat_minor": 2
}
